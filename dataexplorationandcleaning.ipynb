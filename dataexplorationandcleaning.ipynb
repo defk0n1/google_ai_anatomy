{
 "cells": [
  {
   "cell_type": "code",
   "execution_count": 1,
   "metadata": {
    "_cell_guid": "b1076dfc-b9ad-4769-8c92-a6c4dae69d19",
    "_uuid": "8f2839f25d086af736a60e9eeb907d3b93b6e0e5",
    "execution": {
     "iopub.execute_input": "2025-04-19T23:40:13.008747Z",
     "iopub.status.busy": "2025-04-19T23:40:13.008490Z",
     "iopub.status.idle": "2025-04-19T23:40:13.277952Z",
     "shell.execute_reply": "2025-04-19T23:40:13.277357Z",
     "shell.execute_reply.started": "2025-04-19T23:40:13.008725Z"
    },
    "trusted": true
   },
   "outputs": [
    {
     "name": "stdout",
     "output_type": "stream",
     "text": [
      "/kaggle/input/ai-anatomy/sample_submission.csv\n",
      "/kaggle/input/ai-anatomy/test_f.csv\n",
      "/kaggle/input/ai-anatomy/train.csv\n"
     ]
    }
   ],
   "source": [
    "# This Python 3 environment comes with many helpful analytics libraries installed\n",
    "# It is defined by the kaggle/python Docker image: https://github.com/kaggle/docker-python\n",
    "# For example, here's several helpful packages to load\n",
    "\n",
    "import numpy as np # linear algebra\n",
    "import pandas as pd # data processing, CSV file I/O (e.g. pd.read_csv)\n",
    "\n",
    "# Input data files are available in the read-only \"../input/\" directory\n",
    "# For example, running this (by clicking run or pressing Shift+Enter) will list all files under the input directory\n",
    "\n",
    "import os\n",
    "for dirname, _, filenames in os.walk('/kaggle/input'):\n",
    "    for filename in filenames:\n",
    "        print(os.path.join(dirname, filename))\n",
    "\n",
    "# You can write up to 20GB to the current directory (/kaggle/working/) that gets preserved as output when you create a version using \"Save & Run All\" \n",
    "# You can also write temporary files to /kaggle/temp/, but they won't be saved outside of the current session"
   ]
  },
  {
   "cell_type": "code",
   "execution_count": 2,
   "metadata": {
    "execution": {
     "iopub.execute_input": "2025-04-19T23:40:15.737784Z",
     "iopub.status.busy": "2025-04-19T23:40:15.737154Z",
     "iopub.status.idle": "2025-04-19T23:40:19.802554Z",
     "shell.execute_reply": "2025-04-19T23:40:19.801798Z",
     "shell.execute_reply.started": "2025-04-19T23:40:15.737756Z"
    },
    "trusted": true
   },
   "outputs": [
    {
     "name": "stdout",
     "output_type": "stream",
     "text": [
      "Requirement already satisfied: transformers in /usr/local/lib/python3.11/dist-packages (4.51.1)\n",
      "Requirement already satisfied: filelock in /usr/local/lib/python3.11/dist-packages (from transformers) (3.18.0)\n",
      "Requirement already satisfied: huggingface-hub<1.0,>=0.30.0 in /usr/local/lib/python3.11/dist-packages (from transformers) (0.30.2)\n",
      "Requirement already satisfied: numpy>=1.17 in /usr/local/lib/python3.11/dist-packages (from transformers) (1.26.4)\n",
      "Requirement already satisfied: packaging>=20.0 in /usr/local/lib/python3.11/dist-packages (from transformers) (24.2)\n",
      "Requirement already satisfied: pyyaml>=5.1 in /usr/local/lib/python3.11/dist-packages (from transformers) (6.0.2)\n",
      "Requirement already satisfied: regex!=2019.12.17 in /usr/local/lib/python3.11/dist-packages (from transformers) (2024.11.6)\n",
      "Requirement already satisfied: requests in /usr/local/lib/python3.11/dist-packages (from transformers) (2.32.3)\n",
      "Requirement already satisfied: tokenizers<0.22,>=0.21 in /usr/local/lib/python3.11/dist-packages (from transformers) (0.21.0)\n",
      "Requirement already satisfied: safetensors>=0.4.3 in /usr/local/lib/python3.11/dist-packages (from transformers) (0.5.2)\n",
      "Requirement already satisfied: tqdm>=4.27 in /usr/local/lib/python3.11/dist-packages (from transformers) (4.67.1)\n",
      "Requirement already satisfied: fsspec>=2023.5.0 in /usr/local/lib/python3.11/dist-packages (from huggingface-hub<1.0,>=0.30.0->transformers) (2025.3.2)\n",
      "Requirement already satisfied: typing-extensions>=3.7.4.3 in /usr/local/lib/python3.11/dist-packages (from huggingface-hub<1.0,>=0.30.0->transformers) (4.13.1)\n",
      "Requirement already satisfied: mkl_fft in /usr/local/lib/python3.11/dist-packages (from numpy>=1.17->transformers) (1.3.8)\n",
      "Requirement already satisfied: mkl_random in /usr/local/lib/python3.11/dist-packages (from numpy>=1.17->transformers) (1.2.4)\n",
      "Requirement already satisfied: mkl_umath in /usr/local/lib/python3.11/dist-packages (from numpy>=1.17->transformers) (0.1.1)\n",
      "Requirement already satisfied: mkl in /usr/local/lib/python3.11/dist-packages (from numpy>=1.17->transformers) (2025.1.0)\n",
      "Requirement already satisfied: tbb4py in /usr/local/lib/python3.11/dist-packages (from numpy>=1.17->transformers) (2022.1.0)\n",
      "Requirement already satisfied: mkl-service in /usr/local/lib/python3.11/dist-packages (from numpy>=1.17->transformers) (2.4.1)\n",
      "Requirement already satisfied: charset-normalizer<4,>=2 in /usr/local/lib/python3.11/dist-packages (from requests->transformers) (3.4.1)\n",
      "Requirement already satisfied: idna<4,>=2.5 in /usr/local/lib/python3.11/dist-packages (from requests->transformers) (3.10)\n",
      "Requirement already satisfied: urllib3<3,>=1.21.1 in /usr/local/lib/python3.11/dist-packages (from requests->transformers) (2.3.0)\n",
      "Requirement already satisfied: certifi>=2017.4.17 in /usr/local/lib/python3.11/dist-packages (from requests->transformers) (2025.1.31)\n",
      "Requirement already satisfied: intel-openmp<2026,>=2024 in /usr/local/lib/python3.11/dist-packages (from mkl->numpy>=1.17->transformers) (2024.2.0)\n",
      "Requirement already satisfied: tbb==2022.* in /usr/local/lib/python3.11/dist-packages (from mkl->numpy>=1.17->transformers) (2022.1.0)\n",
      "Requirement already satisfied: tcmlib==1.* in /usr/local/lib/python3.11/dist-packages (from tbb==2022.*->mkl->numpy>=1.17->transformers) (1.2.0)\n",
      "Requirement already satisfied: intel-cmplr-lib-rt in /usr/local/lib/python3.11/dist-packages (from mkl_umath->numpy>=1.17->transformers) (2024.2.0)\n",
      "Requirement already satisfied: intel-cmplr-lib-ur==2024.2.0 in /usr/local/lib/python3.11/dist-packages (from intel-openmp<2026,>=2024->mkl->numpy>=1.17->transformers) (2024.2.0)\n"
     ]
    }
   ],
   "source": [
    "!pip install transformers\n"
   ]
  },
  {
   "cell_type": "code",
   "execution_count": 4,
   "metadata": {
    "execution": {
     "iopub.execute_input": "2025-04-19T23:40:31.477659Z",
     "iopub.status.busy": "2025-04-19T23:40:31.477265Z",
     "iopub.status.idle": "2025-04-19T23:40:31.481910Z",
     "shell.execute_reply": "2025-04-19T23:40:31.481214Z",
     "shell.execute_reply.started": "2025-04-19T23:40:31.477634Z"
    },
    "trusted": true
   },
   "outputs": [],
   "source": [
    "import pandas as pd\n",
    "import numpy as np\n",
    "from sklearn.model_selection import train_test_split\n",
    "import torch\n",
    "import seaborn as sns\n",
    "import transformers\n",
    "import json\n",
    "import matplotlib.pyplot as plt\n",
    "from tqdm import tqdm\n",
    "from torch.utils.data import Dataset, DataLoader\n",
    "# from transformers import RobertaModel, RobertaTokenizer!\n",
    "import logging\n",
    "import re\n"
   ]
  },
  {
   "cell_type": "code",
   "execution_count": 5,
   "metadata": {
    "execution": {
     "iopub.execute_input": "2025-04-19T23:40:33.462656Z",
     "iopub.status.busy": "2025-04-19T23:40:33.462087Z",
     "iopub.status.idle": "2025-04-19T23:40:33.546133Z",
     "shell.execute_reply": "2025-04-19T23:40:33.545303Z",
     "shell.execute_reply.started": "2025-04-19T23:40:33.462634Z"
    },
    "trusted": true
   },
   "outputs": [
    {
     "name": "stdout",
     "output_type": "stream",
     "text": [
      "cuda\n"
     ]
    }
   ],
   "source": [
    "# Setting up the device for GPU usage\n",
    "\n",
    "from torch import cuda\n",
    "device = 'cuda' if cuda.is_available() else 'cpu'\n",
    "print(device)\n"
   ]
  },
  {
   "cell_type": "code",
   "execution_count": 8,
   "metadata": {
    "execution": {
     "iopub.execute_input": "2025-04-19T23:40:55.299971Z",
     "iopub.status.busy": "2025-04-19T23:40:55.299470Z",
     "iopub.status.idle": "2025-04-19T23:40:55.442718Z",
     "shell.execute_reply": "2025-04-19T23:40:55.442084Z",
     "shell.execute_reply.started": "2025-04-19T23:40:55.299943Z"
    },
    "trusted": true
   },
   "outputs": [
    {
     "name": "stdout",
     "output_type": "stream",
     "text": [
      "<class 'pandas.core.frame.DataFrame'>\n",
      "RangeIndex: 10479 entries, 0 to 10478\n",
      "Data columns (total 3 columns):\n",
      " #   Column    Non-Null Count  Dtype \n",
      "---  ------    --------------  ----- \n",
      " 0   ID        10479 non-null  int64 \n",
      " 1   question  10479 non-null  object\n",
      " 2   answer    10478 non-null  object\n",
      "dtypes: int64(1), object(2)\n",
      "memory usage: 245.7+ KB\n",
      "None\n",
      "     ID                                           question answer\n",
      "0  8358  A 24-year-old man comes to the physician becau...     0%\n",
      "1  5260  A 64-year-old male retired farmer presents to ...  0.002\n",
      "2  7648  A healthy 29-year-old nulligravid woman comes ...  0.20%\n",
      "3  1703  A 25-year-old man with a genetic disorder pres...     1%\n",
      "4   945  A 14-month-old boy is brought in by his parent...  2.50%\n"
     ]
    }
   ],
   "source": [
    "test = pd.read_csv('/kaggle/input/ai-anatomy/test_f.csv')\n",
    "train = pd.read_csv('/kaggle/input/ai-anatomy/train.csv')\n",
    "\n",
    "\n",
    "print(train.info())\n",
    "print(train.head())\n",
    "\n"
   ]
  },
  {
   "cell_type": "code",
   "execution_count": null,
   "metadata": {
    "execution": {
     "iopub.execute_input": "2025-04-19T23:41:17.634503Z",
     "iopub.status.busy": "2025-04-19T23:41:17.634238Z",
     "iopub.status.idle": "2025-04-19T23:41:17.658739Z",
     "shell.execute_reply": "2025-04-19T23:41:17.658125Z",
     "shell.execute_reply.started": "2025-04-19T23:41:17.634483Z"
    },
    "trusted": true
   },
   "outputs": [
    {
     "name": "stdout",
     "output_type": "stream",
     "text": [
      "<class 'pandas.core.frame.DataFrame'>\n",
      "Index: 5643 entries, 83 to 10477\n",
      "Data columns (total 3 columns):\n",
      " #   Column    Non-Null Count  Dtype \n",
      "---  ------    --------------  ----- \n",
      " 0   ID        5643 non-null   int64 \n",
      " 1   question  5643 non-null   object\n",
      " 2   answer    5643 non-null   object\n",
      "dtypes: int64(1), object(2)\n",
      "memory usage: 176.3+ KB\n"
     ]
    }
   ],
   "source": [
    "\n",
    "# we removed rows where 'answer' is purely numeric with no alphabetic values (e.g., 123 or 45.67)\n",
    "train = train[~train['answer'].str.strip().str.match(r'^-?\\d+(\\.\\d+)?$', na=False)]\n",
    "# kept only answers containing at least 3 words\n",
    "train = train[train['answer'].str.split().str.len() >= 3]\n",
    "train.info()\n",
    "\n"
   ]
  },
  {
   "cell_type": "code",
   "execution_count": null,
   "metadata": {
    "execution": {
     "iopub.execute_input": "2025-04-19T23:41:24.561746Z",
     "iopub.status.busy": "2025-04-19T23:41:24.561161Z",
     "iopub.status.idle": "2025-04-19T23:41:24.571408Z",
     "shell.execute_reply": "2025-04-19T23:41:24.570776Z",
     "shell.execute_reply.started": "2025-04-19T23:41:24.561724Z"
    },
    "trusted": true
   },
   "outputs": [
    {
     "data": {
      "text/plain": [
       "answer\n",
       "CT scan of the abdomen                         8\n",
       "Iron deficiency anemia                         8\n",
       "Autism spectrum disorder                       7\n",
       "Patent ductus arteriosus                       6\n",
       "Herpes simplex virus                           6\n",
       "                                              ..\n",
       "Erythrocyte transketolase activity             1\n",
       "Erythocyte sedimentation rate of 65 mm/h\\n\"    1\n",
       "Erythematous periorbital rash                  1\n",
       "Eruption of mandibular incisors                1\n",
       "Esmolol and glucagon                           1\n",
       "Name: count, Length: 5237, dtype: int64"
      ]
     },
     "execution_count": 11,
     "metadata": {},
     "output_type": "execute_result"
    }
   ],
   "source": [
    "#checked for occurances of answers\n",
    "train['answer'].value_counts()"
   ]
  },
  {
   "cell_type": "code",
   "execution_count": null,
   "metadata": {
    "execution": {
     "iopub.execute_input": "2025-04-19T23:41:28.962719Z",
     "iopub.status.busy": "2025-04-19T23:41:28.961991Z",
     "iopub.status.idle": "2025-04-19T23:41:28.983438Z",
     "shell.execute_reply": "2025-04-19T23:41:28.982604Z",
     "shell.execute_reply.started": "2025-04-19T23:41:28.962689Z"
    },
    "trusted": true
   },
   "outputs": [
    {
     "name": "stdout",
     "output_type": "stream",
     "text": [
      "0\n"
     ]
    }
   ],
   "source": [
    "print(train.duplicated(subset=['question', 'answer']).sum())"
   ]
  },
  {
   "cell_type": "code",
   "execution_count": null,
   "metadata": {
    "execution": {
     "iopub.execute_input": "2025-04-19T23:41:30.855195Z",
     "iopub.status.busy": "2025-04-19T23:41:30.854333Z",
     "iopub.status.idle": "2025-04-19T23:41:30.875124Z",
     "shell.execute_reply": "2025-04-19T23:41:30.874487Z",
     "shell.execute_reply.started": "2025-04-19T23:41:30.855170Z"
    },
    "trusted": true
   },
   "outputs": [
    {
     "name": "stdout",
     "output_type": "stream",
     "text": [
      "count    5643.000000\n",
      "mean       12.295056\n",
      "std        32.456444\n",
      "min         3.000000\n",
      "25%         3.000000\n",
      "50%         4.000000\n",
      "75%         7.000000\n",
      "max       322.000000\n",
      "Name: answer_length, dtype: float64\n"
     ]
    }
   ],
   "source": [
    "train['answer_length'] = train['answer'].str.split().str.len()\n",
    "print(train['answer_length'].describe())"
   ]
  },
  {
   "cell_type": "code",
   "execution_count": null,
   "metadata": {
    "execution": {
     "iopub.execute_input": "2025-04-19T23:41:32.934501Z",
     "iopub.status.busy": "2025-04-19T23:41:32.934268Z",
     "iopub.status.idle": "2025-04-19T23:41:32.953416Z",
     "shell.execute_reply": "2025-04-19T23:41:32.952723Z",
     "shell.execute_reply.started": "2025-04-19T23:41:32.934487Z"
    },
    "trusted": true
   },
   "outputs": [
    {
     "data": {
      "text/html": [
       "<div>\n",
       "<style scoped>\n",
       "    .dataframe tbody tr th:only-of-type {\n",
       "        vertical-align: middle;\n",
       "    }\n",
       "\n",
       "    .dataframe tbody tr th {\n",
       "        vertical-align: top;\n",
       "    }\n",
       "\n",
       "    .dataframe thead th {\n",
       "        text-align: right;\n",
       "    }\n",
       "</style>\n",
       "<table border=\"1\" class=\"dataframe\">\n",
       "  <thead>\n",
       "    <tr style=\"text-align: right;\">\n",
       "      <th></th>\n",
       "      <th>ID</th>\n",
       "      <th>question</th>\n",
       "      <th>answer</th>\n",
       "      <th>answer_length</th>\n",
       "    </tr>\n",
       "  </thead>\n",
       "  <tbody>\n",
       "    <tr>\n",
       "      <th>83</th>\n",
       "      <td>2462</td>\n",
       "      <td>A cross-sectional oral health survey was desig...</td>\n",
       "      <td>...the difference between the observed and non...</td>\n",
       "      <td>10</td>\n",
       "    </tr>\n",
       "    <tr>\n",
       "      <th>84</th>\n",
       "      <td>5552</td>\n",
       "      <td>A 59-year-old man comes to the physician for a...</td>\n",
       "      <td>\"\"\"I apologize for the inconvenience, and if I...</td>\n",
       "      <td>23</td>\n",
       "    </tr>\n",
       "    <tr>\n",
       "      <th>85</th>\n",
       "      <td>6854</td>\n",
       "      <td>A 27-year-old woman with cystic fibrosis comes...</td>\n",
       "      <td>\"\"\"I understand that living with cystic fibros...</td>\n",
       "      <td>24</td>\n",
       "    </tr>\n",
       "    <tr>\n",
       "      <th>86</th>\n",
       "      <td>5282</td>\n",
       "      <td>A 27-year-old woman is brought to the physicia...</td>\n",
       "      <td>\"\"\"I understand that the sudden loss of your f...</td>\n",
       "      <td>32</td>\n",
       "    </tr>\n",
       "    <tr>\n",
       "      <th>87</th>\n",
       "      <td>6814</td>\n",
       "      <td>A 25-year-old man comes to the physician for s...</td>\n",
       "      <td>\"\"\"I understand that you are uncomfortable, bu...</td>\n",
       "      <td>26</td>\n",
       "    </tr>\n",
       "    <tr>\n",
       "      <th>88</th>\n",
       "      <td>4585</td>\n",
       "      <td>A 22-year-old man is brought to the emergency ...</td>\n",
       "      <td>\"\"\"I understand that you want to go home, but ...</td>\n",
       "      <td>21</td>\n",
       "    </tr>\n",
       "    <tr>\n",
       "      <th>89</th>\n",
       "      <td>3213</td>\n",
       "      <td>A 62-year-old woman is brought to the emergenc...</td>\n",
       "      <td>\"\"\"I was unable to obtain results from the ear...</td>\n",
       "      <td>21</td>\n",
       "    </tr>\n",
       "    <tr>\n",
       "      <th>90</th>\n",
       "      <td>7368</td>\n",
       "      <td>A 38-year-old woman comes to the physician for...</td>\n",
       "      <td>\"\"\"I would like to assess your symptoms causin...</td>\n",
       "      <td>17</td>\n",
       "    </tr>\n",
       "    <tr>\n",
       "      <th>91</th>\n",
       "      <td>3716</td>\n",
       "      <td>A 15-year-old girl comes to the physician for ...</td>\n",
       "      <td>\"\"\"I would like to discuss the various contrac...</td>\n",
       "      <td>12</td>\n",
       "    </tr>\n",
       "    <tr>\n",
       "      <th>92</th>\n",
       "      <td>2151</td>\n",
       "      <td>A previously healthy 73-year-old man comes to ...</td>\n",
       "      <td>\"\"\"I would like to know more about why you don...</td>\n",
       "      <td>16</td>\n",
       "    </tr>\n",
       "    <tr>\n",
       "      <th>93</th>\n",
       "      <td>6928</td>\n",
       "      <td>A 67-year-old man comes to the physician for a...</td>\n",
       "      <td>\"\"\"I'm sorry that your friend no longer return...</td>\n",
       "      <td>19</td>\n",
       "    </tr>\n",
       "    <tr>\n",
       "      <th>94</th>\n",
       "      <td>4937</td>\n",
       "      <td>A 39-year-old woman with multiple sclerosis co...</td>\n",
       "      <td>\"\"\"I'm very sorry to hear that you feel this w...</td>\n",
       "      <td>28</td>\n",
       "    </tr>\n",
       "    <tr>\n",
       "      <th>95</th>\n",
       "      <td>7918</td>\n",
       "      <td>A 65-year-old man is admitted to the hospital ...</td>\n",
       "      <td>\"\"\"What is your understanding of the reasons w...</td>\n",
       "      <td>15</td>\n",
       "    </tr>\n",
       "    <tr>\n",
       "      <th>96</th>\n",
       "      <td>7089</td>\n",
       "      <td>A 52-year-old man with stage IV melanoma comes...</td>\n",
       "      <td>\"\"\"What is your understanding of your husband'...</td>\n",
       "      <td>9</td>\n",
       "    </tr>\n",
       "    <tr>\n",
       "      <th>97</th>\n",
       "      <td>8861</td>\n",
       "      <td>A 15-year-old girl is brought to the physician...</td>\n",
       "      <td>\"\"\"Would it be possible for you to step out fo...</td>\n",
       "      <td>21</td>\n",
       "    </tr>\n",
       "    <tr>\n",
       "      <th>98</th>\n",
       "      <td>3086</td>\n",
       "      <td>A 78-year-old man with advanced lung cancer wi...</td>\n",
       "      <td>\"\"\"Your father is only eligible if his life ex...</td>\n",
       "      <td>14</td>\n",
       "    </tr>\n",
       "    <tr>\n",
       "      <th>99</th>\n",
       "      <td>2802</td>\n",
       "      <td>A 42-year-old woman presents with trouble focu...</td>\n",
       "      <td>“Appetite suppression is a common side effect ...</td>\n",
       "      <td>10</td>\n",
       "    </tr>\n",
       "    <tr>\n",
       "      <th>100</th>\n",
       "      <td>5035</td>\n",
       "      <td>A 72-year-old woman is brought to the emergenc...</td>\n",
       "      <td>“Based on her wishes, mechanical ventilation m...</td>\n",
       "      <td>9</td>\n",
       "    </tr>\n",
       "    <tr>\n",
       "      <th>101</th>\n",
       "      <td>8587</td>\n",
       "      <td>A 12-year-old boy is found on a routine audito...</td>\n",
       "      <td>“Basket-weave” pattern of basement membrane on...</td>\n",
       "      <td>8</td>\n",
       "    </tr>\n",
       "    <tr>\n",
       "      <th>102</th>\n",
       "      <td>6105</td>\n",
       "      <td>A 28-year-old male presents to his primary car...</td>\n",
       "      <td>\"Can you tell me more about the symptoms you h...</td>\n",
       "      <td>12</td>\n",
       "    </tr>\n",
       "    <tr>\n",
       "      <th>103</th>\n",
       "      <td>1429</td>\n",
       "      <td>A 19-year-old woman comes to the physician for...</td>\n",
       "      <td>“I can understand your need for the IUD, but I...</td>\n",
       "      <td>34</td>\n",
       "    </tr>\n",
       "    <tr>\n",
       "      <th>104</th>\n",
       "      <td>9604</td>\n",
       "      <td>A 31-year-old woman comes to the physician bec...</td>\n",
       "      <td>“I cannot see any injury of your wrist and the...</td>\n",
       "      <td>45</td>\n",
       "    </tr>\n",
       "    <tr>\n",
       "      <th>105</th>\n",
       "      <td>3187</td>\n",
       "      <td>A 73-year-old man presents to his primary care...</td>\n",
       "      <td>\"I respect that this is ultimately your decisi...</td>\n",
       "      <td>17</td>\n",
       "    </tr>\n",
       "    <tr>\n",
       "      <th>106</th>\n",
       "      <td>3046</td>\n",
       "      <td>Last night you admitted a 72-year-old woman wi...</td>\n",
       "      <td>\"I understand what you are experiencing and am...</td>\n",
       "      <td>13</td>\n",
       "    </tr>\n",
       "    <tr>\n",
       "      <th>107</th>\n",
       "      <td>6860</td>\n",
       "      <td>A 79-year-old man with a history of prostate c...</td>\n",
       "      <td>“I would prefer that you obtain informed conse...</td>\n",
       "      <td>13</td>\n",
       "    </tr>\n",
       "    <tr>\n",
       "      <th>108</th>\n",
       "      <td>8802</td>\n",
       "      <td>A 68-year-old man comes to the physician for a...</td>\n",
       "      <td>“I'm sorry, I can't discuss any information wi...</td>\n",
       "      <td>23</td>\n",
       "    </tr>\n",
       "    <tr>\n",
       "      <th>109</th>\n",
       "      <td>5982</td>\n",
       "      <td>A 68-year-old man presents to the physician fo...</td>\n",
       "      <td>\"I'm sorry, I can't discuss any information wi...</td>\n",
       "      <td>23</td>\n",
       "    </tr>\n",
       "    <tr>\n",
       "      <th>110</th>\n",
       "      <td>5498</td>\n",
       "      <td>An 83-year-old man presents to the gastroenter...</td>\n",
       "      <td>\"If that is your definite wish, then I must ho...</td>\n",
       "      <td>11</td>\n",
       "    </tr>\n",
       "    <tr>\n",
       "      <th>111</th>\n",
       "      <td>6638</td>\n",
       "      <td>A 57-year-old woman presents to her primary ca...</td>\n",
       "      <td>\"Intestinal metaplasia and gastric dysplasia a...</td>\n",
       "      <td>11</td>\n",
       "    </tr>\n",
       "    <tr>\n",
       "      <th>112</th>\n",
       "      <td>7974</td>\n",
       "      <td>A 57-year-old man presents to his oncologist t...</td>\n",
       "      <td>\"It must be very challenging having received t...</td>\n",
       "      <td>19</td>\n",
       "    </tr>\n",
       "    <tr>\n",
       "      <th>113</th>\n",
       "      <td>3828</td>\n",
       "      <td>A 65-year-old woman presents with memory probl...</td>\n",
       "      <td>\"No, taking ginkgo will increase your risk for...</td>\n",
       "      <td>9</td>\n",
       "    </tr>\n",
       "    <tr>\n",
       "      <th>114</th>\n",
       "      <td>6789</td>\n",
       "      <td>A 27-year-old female presents to her primary c...</td>\n",
       "      <td>\"Spaghetti and meatballs\" fungus</td>\n",
       "      <td>4</td>\n",
       "    </tr>\n",
       "    <tr>\n",
       "      <th>115</th>\n",
       "      <td>2694</td>\n",
       "      <td>A 29-year-old woman presents for a follow-up v...</td>\n",
       "      <td>\"Thank you, but I cannot accept the tickets yo...</td>\n",
       "      <td>32</td>\n",
       "    </tr>\n",
       "    <tr>\n",
       "      <th>116</th>\n",
       "      <td>7829</td>\n",
       "      <td>A 75-year-old man is referred for thyroidectom...</td>\n",
       "      <td>\"We made a mistake during the operation that m...</td>\n",
       "      <td>12</td>\n",
       "    </tr>\n",
       "    <tr>\n",
       "      <th>117</th>\n",
       "      <td>3839</td>\n",
       "      <td>A 27-year-old woman presents for her routine a...</td>\n",
       "      <td>“We should do a Pap smear now. Blood tests are...</td>\n",
       "      <td>15</td>\n",
       "    </tr>\n",
       "    <tr>\n",
       "      <th>118</th>\n",
       "      <td>2408</td>\n",
       "      <td>A 50-year-old man with hypertension comes to t...</td>\n",
       "      <td>“What have you heard about the use of alprazol...</td>\n",
       "      <td>14</td>\n",
       "    </tr>\n",
       "    <tr>\n",
       "      <th>119</th>\n",
       "      <td>1726</td>\n",
       "      <td>A 56-year-old man presents to the family medic...</td>\n",
       "      <td>“What is causing your blood pressure to be ele...</td>\n",
       "      <td>9</td>\n",
       "    </tr>\n",
       "    <tr>\n",
       "      <th>120</th>\n",
       "      <td>4502</td>\n",
       "      <td>A 25-year-old woman presents to her college ca...</td>\n",
       "      <td>“While taking this medication, you should avoi...</td>\n",
       "      <td>10</td>\n",
       "    </tr>\n",
       "    <tr>\n",
       "      <th>121</th>\n",
       "      <td>7258</td>\n",
       "      <td>A 33-year-old Hispanic woman who recently immi...</td>\n",
       "      <td>“You may breastfeed your baby because you are ...</td>\n",
       "      <td>19</td>\n",
       "    </tr>\n",
       "    <tr>\n",
       "      <th>122</th>\n",
       "      <td>1883</td>\n",
       "      <td>A 6-month-old male presents for a routine visi...</td>\n",
       "      <td>“Your child has a greater than 20% chance of d...</td>\n",
       "      <td>11</td>\n",
       "    </tr>\n",
       "    <tr>\n",
       "      <th>123</th>\n",
       "      <td>1910</td>\n",
       "      <td>A 50-year-old woman returns from a family trip...</td>\n",
       "      <td>(+) ssRNA virus</td>\n",
       "      <td>3</td>\n",
       "    </tr>\n",
       "    <tr>\n",
       "      <th>124</th>\n",
       "      <td>9997</td>\n",
       "      <td>A 73-year-old woman presents to clinic with a ...</td>\n",
       "      <td>(160 - 100) * 115</td>\n",
       "      <td>5</td>\n",
       "    </tr>\n",
       "    <tr>\n",
       "      <th>125</th>\n",
       "      <td>2177</td>\n",
       "      <td>In a community of 5,000 people, 40 people from...</td>\n",
       "      <td>(90/110) × 100</td>\n",
       "      <td>3</td>\n",
       "    </tr>\n",
       "    <tr>\n",
       "      <th>127</th>\n",
       "      <td>1327</td>\n",
       "      <td>You have been asked to quantify the relative r...</td>\n",
       "      <td>[30 / (30 + 70)] / [1 / (1 + 99)]</td>\n",
       "      <td>11</td>\n",
       "    </tr>\n",
       "    <tr>\n",
       "      <th>128</th>\n",
       "      <td>2850</td>\n",
       "      <td>You are attempting to quantify the degree of i...</td>\n",
       "      <td>[500/ (500 + 500)] / [5 / (5 + 995)]</td>\n",
       "      <td>10</td>\n",
       "    </tr>\n",
       "    <tr>\n",
       "      <th>129</th>\n",
       "      <td>5708</td>\n",
       "      <td>An investigator is studying the effects of hyp...</td>\n",
       "      <td>↑ ↑ ↑ ↑</td>\n",
       "      <td>4</td>\n",
       "    </tr>\n",
       "    <tr>\n",
       "      <th>130</th>\n",
       "      <td>3131</td>\n",
       "      <td>Four days after admission to the hospital for ...</td>\n",
       "      <td>↑ ↑ ↓ ↑</td>\n",
       "      <td>4</td>\n",
       "    </tr>\n",
       "    <tr>\n",
       "      <th>131</th>\n",
       "      <td>5053</td>\n",
       "      <td>A 42-year-old woman, gravida 1, para 0, at 10 ...</td>\n",
       "      <td>↑ ↑ ↓ ↑</td>\n",
       "      <td>4</td>\n",
       "    </tr>\n",
       "    <tr>\n",
       "      <th>132</th>\n",
       "      <td>4936</td>\n",
       "      <td>A 46-year-old man comes to the physician for a...</td>\n",
       "      <td>↑ ↑ ↓ ↓</td>\n",
       "      <td>4</td>\n",
       "    </tr>\n",
       "    <tr>\n",
       "      <th>133</th>\n",
       "      <td>1973</td>\n",
       "      <td>A previously healthy 52-year-old woman comes t...</td>\n",
       "      <td>↑ ↓ ↓ ↓</td>\n",
       "      <td>4</td>\n",
       "    </tr>\n",
       "  </tbody>\n",
       "</table>\n",
       "</div>"
      ],
      "text/plain": [
       "       ID                                           question  \\\n",
       "83   2462  A cross-sectional oral health survey was desig...   \n",
       "84   5552  A 59-year-old man comes to the physician for a...   \n",
       "85   6854  A 27-year-old woman with cystic fibrosis comes...   \n",
       "86   5282  A 27-year-old woman is brought to the physicia...   \n",
       "87   6814  A 25-year-old man comes to the physician for s...   \n",
       "88   4585  A 22-year-old man is brought to the emergency ...   \n",
       "89   3213  A 62-year-old woman is brought to the emergenc...   \n",
       "90   7368  A 38-year-old woman comes to the physician for...   \n",
       "91   3716  A 15-year-old girl comes to the physician for ...   \n",
       "92   2151  A previously healthy 73-year-old man comes to ...   \n",
       "93   6928  A 67-year-old man comes to the physician for a...   \n",
       "94   4937  A 39-year-old woman with multiple sclerosis co...   \n",
       "95   7918  A 65-year-old man is admitted to the hospital ...   \n",
       "96   7089  A 52-year-old man with stage IV melanoma comes...   \n",
       "97   8861  A 15-year-old girl is brought to the physician...   \n",
       "98   3086  A 78-year-old man with advanced lung cancer wi...   \n",
       "99   2802  A 42-year-old woman presents with trouble focu...   \n",
       "100  5035  A 72-year-old woman is brought to the emergenc...   \n",
       "101  8587  A 12-year-old boy is found on a routine audito...   \n",
       "102  6105  A 28-year-old male presents to his primary car...   \n",
       "103  1429  A 19-year-old woman comes to the physician for...   \n",
       "104  9604  A 31-year-old woman comes to the physician bec...   \n",
       "105  3187  A 73-year-old man presents to his primary care...   \n",
       "106  3046  Last night you admitted a 72-year-old woman wi...   \n",
       "107  6860  A 79-year-old man with a history of prostate c...   \n",
       "108  8802  A 68-year-old man comes to the physician for a...   \n",
       "109  5982  A 68-year-old man presents to the physician fo...   \n",
       "110  5498  An 83-year-old man presents to the gastroenter...   \n",
       "111  6638  A 57-year-old woman presents to her primary ca...   \n",
       "112  7974  A 57-year-old man presents to his oncologist t...   \n",
       "113  3828  A 65-year-old woman presents with memory probl...   \n",
       "114  6789  A 27-year-old female presents to her primary c...   \n",
       "115  2694  A 29-year-old woman presents for a follow-up v...   \n",
       "116  7829  A 75-year-old man is referred for thyroidectom...   \n",
       "117  3839  A 27-year-old woman presents for her routine a...   \n",
       "118  2408  A 50-year-old man with hypertension comes to t...   \n",
       "119  1726  A 56-year-old man presents to the family medic...   \n",
       "120  4502  A 25-year-old woman presents to her college ca...   \n",
       "121  7258  A 33-year-old Hispanic woman who recently immi...   \n",
       "122  1883  A 6-month-old male presents for a routine visi...   \n",
       "123  1910  A 50-year-old woman returns from a family trip...   \n",
       "124  9997  A 73-year-old woman presents to clinic with a ...   \n",
       "125  2177  In a community of 5,000 people, 40 people from...   \n",
       "127  1327  You have been asked to quantify the relative r...   \n",
       "128  2850  You are attempting to quantify the degree of i...   \n",
       "129  5708  An investigator is studying the effects of hyp...   \n",
       "130  3131  Four days after admission to the hospital for ...   \n",
       "131  5053  A 42-year-old woman, gravida 1, para 0, at 10 ...   \n",
       "132  4936  A 46-year-old man comes to the physician for a...   \n",
       "133  1973  A previously healthy 52-year-old woman comes t...   \n",
       "\n",
       "                                                answer  answer_length  \n",
       "83   ...the difference between the observed and non...             10  \n",
       "84   \"\"\"I apologize for the inconvenience, and if I...             23  \n",
       "85   \"\"\"I understand that living with cystic fibros...             24  \n",
       "86   \"\"\"I understand that the sudden loss of your f...             32  \n",
       "87   \"\"\"I understand that you are uncomfortable, bu...             26  \n",
       "88   \"\"\"I understand that you want to go home, but ...             21  \n",
       "89   \"\"\"I was unable to obtain results from the ear...             21  \n",
       "90   \"\"\"I would like to assess your symptoms causin...             17  \n",
       "91   \"\"\"I would like to discuss the various contrac...             12  \n",
       "92   \"\"\"I would like to know more about why you don...             16  \n",
       "93   \"\"\"I'm sorry that your friend no longer return...             19  \n",
       "94   \"\"\"I'm very sorry to hear that you feel this w...             28  \n",
       "95   \"\"\"What is your understanding of the reasons w...             15  \n",
       "96   \"\"\"What is your understanding of your husband'...              9  \n",
       "97   \"\"\"Would it be possible for you to step out fo...             21  \n",
       "98   \"\"\"Your father is only eligible if his life ex...             14  \n",
       "99   “Appetite suppression is a common side effect ...             10  \n",
       "100  “Based on her wishes, mechanical ventilation m...              9  \n",
       "101  “Basket-weave” pattern of basement membrane on...              8  \n",
       "102  \"Can you tell me more about the symptoms you h...             12  \n",
       "103  “I can understand your need for the IUD, but I...             34  \n",
       "104  “I cannot see any injury of your wrist and the...             45  \n",
       "105  \"I respect that this is ultimately your decisi...             17  \n",
       "106  \"I understand what you are experiencing and am...             13  \n",
       "107  “I would prefer that you obtain informed conse...             13  \n",
       "108  “I'm sorry, I can't discuss any information wi...             23  \n",
       "109  \"I'm sorry, I can't discuss any information wi...             23  \n",
       "110  \"If that is your definite wish, then I must ho...             11  \n",
       "111  \"Intestinal metaplasia and gastric dysplasia a...             11  \n",
       "112  \"It must be very challenging having received t...             19  \n",
       "113  \"No, taking ginkgo will increase your risk for...              9  \n",
       "114                   \"Spaghetti and meatballs\" fungus              4  \n",
       "115  \"Thank you, but I cannot accept the tickets yo...             32  \n",
       "116  \"We made a mistake during the operation that m...             12  \n",
       "117  “We should do a Pap smear now. Blood tests are...             15  \n",
       "118  “What have you heard about the use of alprazol...             14  \n",
       "119  “What is causing your blood pressure to be ele...              9  \n",
       "120  “While taking this medication, you should avoi...             10  \n",
       "121  “You may breastfeed your baby because you are ...             19  \n",
       "122  “Your child has a greater than 20% chance of d...             11  \n",
       "123                                    (+) ssRNA virus              3  \n",
       "124                                  (160 - 100) * 115              5  \n",
       "125                                     (90/110) × 100              3  \n",
       "127                  [30 / (30 + 70)] / [1 / (1 + 99)]             11  \n",
       "128               [500/ (500 + 500)] / [5 / (5 + 995)]             10  \n",
       "129                                            ↑ ↑ ↑ ↑              4  \n",
       "130                                            ↑ ↑ ↓ ↑              4  \n",
       "131                                            ↑ ↑ ↓ ↑              4  \n",
       "132                                            ↑ ↑ ↓ ↓              4  \n",
       "133                                            ↑ ↓ ↓ ↓              4  "
      ]
     },
     "execution_count": 14,
     "metadata": {},
     "output_type": "execute_result"
    }
   ],
   "source": [
    "train.head(50)"
   ]
  },
  {
   "cell_type": "code",
   "execution_count": 15,
   "metadata": {
    "execution": {
     "iopub.execute_input": "2025-04-19T23:41:54.268402Z",
     "iopub.status.busy": "2025-04-19T23:41:54.267672Z",
     "iopub.status.idle": "2025-04-19T23:41:54.276083Z",
     "shell.execute_reply": "2025-04-19T23:41:54.275309Z",
     "shell.execute_reply.started": "2025-04-19T23:41:54.268377Z"
    },
    "trusted": true
   },
   "outputs": [],
   "source": [
    "train = train[~train['answer'].str.strip().str.endswith('?')]\n"
   ]
  },
  {
   "cell_type": "code",
   "execution_count": 16,
   "metadata": {
    "execution": {
     "iopub.execute_input": "2025-04-19T23:41:56.239865Z",
     "iopub.status.busy": "2025-04-19T23:41:56.239214Z",
     "iopub.status.idle": "2025-04-19T23:41:56.251654Z",
     "shell.execute_reply": "2025-04-19T23:41:56.250718Z",
     "shell.execute_reply.started": "2025-04-19T23:41:56.239813Z"
    },
    "trusted": true
   },
   "outputs": [
    {
     "name": "stdout",
     "output_type": "stream",
     "text": [
      "<class 'pandas.core.frame.DataFrame'>\n",
      "Index: 5641 entries, 83 to 10477\n",
      "Data columns (total 4 columns):\n",
      " #   Column         Non-Null Count  Dtype \n",
      "---  ------         --------------  ----- \n",
      " 0   ID             5641 non-null   int64 \n",
      " 1   question       5641 non-null   object\n",
      " 2   answer         5641 non-null   object\n",
      " 3   answer_length  5641 non-null   int64 \n",
      "dtypes: int64(2), object(2)\n",
      "memory usage: 220.4+ KB\n"
     ]
    }
   ],
   "source": [
    "train.info()"
   ]
  },
  {
   "cell_type": "code",
   "execution_count": null,
   "metadata": {
    "execution": {
     "iopub.execute_input": "2025-04-19T23:42:10.883239Z",
     "iopub.status.busy": "2025-04-19T23:42:10.882969Z",
     "iopub.status.idle": "2025-04-19T23:42:10.916607Z",
     "shell.execute_reply": "2025-04-19T23:42:10.916086Z",
     "shell.execute_reply.started": "2025-04-19T23:42:10.883222Z"
    },
    "trusted": true
   },
   "outputs": [
    {
     "name": "stdout",
     "output_type": "stream",
     "text": [
      "Number of answers containing any of ['AI', 'model', 'ai', 'large language model']: 541\n",
      "<class 'pandas.core.frame.DataFrame'>\n",
      "Index: 5641 entries, 83 to 10477\n",
      "Data columns (total 4 columns):\n",
      " #   Column         Non-Null Count  Dtype \n",
      "---  ------         --------------  ----- \n",
      " 0   ID             5641 non-null   int64 \n",
      " 1   question       5641 non-null   object\n",
      " 2   answer         5641 non-null   object\n",
      " 3   answer_length  5641 non-null   int64 \n",
      "dtypes: int64(2), object(2)\n",
      "memory usage: 220.4+ KB\n",
      "None\n"
     ]
    }
   ],
   "source": [
    "train['answer'].value_counts(\"\")\n",
    "keywords = ['AI', 'model', 'ai', 'large language model']\n",
    "pattern = '|'.join([re.escape(word) for word in keywords])\n",
    "count = train['answer'].str.contains(pattern, case=False, na=False).sum()\n",
    "print(f\"Number of answers containing any of {keywords}: {count}\")\n",
    "print(train.info())"
   ]
  },
  {
   "cell_type": "code",
   "execution_count": 18,
   "metadata": {
    "execution": {
     "iopub.execute_input": "2025-04-19T23:42:22.435223Z",
     "iopub.status.busy": "2025-04-19T23:42:22.434963Z",
     "iopub.status.idle": "2025-04-19T23:42:23.411963Z",
     "shell.execute_reply": "2025-04-19T23:42:23.411418Z",
     "shell.execute_reply.started": "2025-04-19T23:42:22.435206Z"
    },
    "trusted": true
   },
   "outputs": [],
   "source": [
    "from datasets import Dataset\n",
    "\n",
    "# Convert to Hugging Face Dataset\n",
    "hf_dataset = Dataset.from_pandas(train)"
   ]
  },
  {
   "cell_type": "code",
   "execution_count": null,
   "metadata": {
    "execution": {
     "iopub.execute_input": "2025-04-19T23:42:26.482458Z",
     "iopub.status.busy": "2025-04-19T23:42:26.482037Z",
     "iopub.status.idle": "2025-04-19T23:42:29.353083Z",
     "shell.execute_reply": "2025-04-19T23:42:29.352138Z",
     "shell.execute_reply.started": "2025-04-19T23:42:26.482439Z"
    },
    "trusted": true
   },
   "outputs": [
    {
     "name": "stdout",
     "output_type": "stream",
     "text": [
      "Requirement already satisfied: huggingface_hub in /usr/local/lib/python3.11/dist-packages (0.30.2)\n",
      "Requirement already satisfied: filelock in /usr/local/lib/python3.11/dist-packages (from huggingface_hub) (3.18.0)\n",
      "Requirement already satisfied: fsspec>=2023.5.0 in /usr/local/lib/python3.11/dist-packages (from huggingface_hub) (2025.3.2)\n",
      "Requirement already satisfied: packaging>=20.9 in /usr/local/lib/python3.11/dist-packages (from huggingface_hub) (24.2)\n",
      "Requirement already satisfied: pyyaml>=5.1 in /usr/local/lib/python3.11/dist-packages (from huggingface_hub) (6.0.2)\n",
      "Requirement already satisfied: requests in /usr/local/lib/python3.11/dist-packages (from huggingface_hub) (2.32.3)\n",
      "Requirement already satisfied: tqdm>=4.42.1 in /usr/local/lib/python3.11/dist-packages (from huggingface_hub) (4.67.1)\n",
      "Requirement already satisfied: typing-extensions>=3.7.4.3 in /usr/local/lib/python3.11/dist-packages (from huggingface_hub) (4.13.1)\n",
      "Requirement already satisfied: charset-normalizer<4,>=2 in /usr/local/lib/python3.11/dist-packages (from requests->huggingface_hub) (3.4.1)\n",
      "Requirement already satisfied: idna<4,>=2.5 in /usr/local/lib/python3.11/dist-packages (from requests->huggingface_hub) (3.10)\n",
      "Requirement already satisfied: urllib3<3,>=1.21.1 in /usr/local/lib/python3.11/dist-packages (from requests->huggingface_hub) (2.3.0)\n",
      "Requirement already satisfied: certifi>=2017.4.17 in /usr/local/lib/python3.11/dist-packages (from requests->huggingface_hub) (2025.1.31)\n"
     ]
    }
   ],
   "source": [
    "!pip install huggingface_hub"
   ]
  },
  {
   "cell_type": "code",
   "execution_count": 20,
   "metadata": {
    "execution": {
     "iopub.execute_input": "2025-04-19T23:42:33.237344Z",
     "iopub.status.busy": "2025-04-19T23:42:33.237057Z",
     "iopub.status.idle": "2025-04-19T23:42:33.480382Z",
     "shell.execute_reply": "2025-04-19T23:42:33.479879Z",
     "shell.execute_reply.started": "2025-04-19T23:42:33.237321Z"
    },
    "trusted": true
   },
   "outputs": [],
   "source": [
    "from huggingface_hub import login\n",
    "from kaggle_secrets import UserSecretsClient\n",
    "user_secrets = UserSecretsClient()\n",
    "secret_value_0 = user_secrets.get_secret(\"hf_token\")\n",
    "\n",
    "\n",
    "# Load token from environment variable\n",
    "hf_token = secret_value_0\n",
    "\n",
    "# Login to Hugging Face\n",
    "login(token=hf_token)"
   ]
  },
  {
   "cell_type": "code",
   "execution_count": 21,
   "metadata": {
    "execution": {
     "iopub.execute_input": "2025-04-19T23:42:41.105467Z",
     "iopub.status.busy": "2025-04-19T23:42:41.105207Z",
     "iopub.status.idle": "2025-04-19T23:43:01.679578Z",
     "shell.execute_reply": "2025-04-19T23:43:01.679017Z",
     "shell.execute_reply.started": "2025-04-19T23:42:41.105448Z"
    },
    "trusted": true
   },
   "outputs": [
    {
     "data": {
      "application/vnd.jupyter.widget-view+json": {
       "model_id": "b97802ae5cbb418eb49fbf6d6f0df2de",
       "version_major": 2,
       "version_minor": 0
      },
      "text/plain": [
       "Uploading the dataset shards:   0%|          | 0/1 [00:00<?, ?it/s]"
      ]
     },
     "metadata": {},
     "output_type": "display_data"
    },
    {
     "data": {
      "application/vnd.jupyter.widget-view+json": {
       "model_id": "d0a4a49a9ea24e6e95ebd6dbbe3b95c0",
       "version_major": 2,
       "version_minor": 0
      },
      "text/plain": [
       "Creating parquet from Arrow format:   0%|          | 0/6 [00:00<?, ?ba/s]"
      ]
     },
     "metadata": {},
     "output_type": "display_data"
    },
    {
     "data": {
      "text/plain": [
       "CommitInfo(commit_url='https://huggingface.co/datasets/defk0n1/aianatomy2/commit/dbf7b92b61cf4957fbdbc5f32a1e8a4b3420167d', commit_message='Upload dataset', commit_description='', oid='dbf7b92b61cf4957fbdbc5f32a1e8a4b3420167d', pr_url=None, repo_url=RepoUrl('https://huggingface.co/datasets/defk0n1/aianatomy2', endpoint='https://huggingface.co', repo_type='dataset', repo_id='defk0n1/aianatomy2'), pr_revision=None, pr_num=None)"
      ]
     },
     "execution_count": 21,
     "metadata": {},
     "output_type": "execute_result"
    }
   ],
   "source": [
    "hf_dataset.push_to_hub(\"defk0n1/aianatomy2\")\n"
   ]
  },
  {
   "cell_type": "code",
   "execution_count": 22,
   "metadata": {
    "execution": {
     "iopub.execute_input": "2025-04-19T23:43:15.647958Z",
     "iopub.status.busy": "2025-04-19T23:43:15.647653Z",
     "iopub.status.idle": "2025-04-19T23:43:15.661013Z",
     "shell.execute_reply": "2025-04-19T23:43:15.660413Z",
     "shell.execute_reply.started": "2025-04-19T23:43:15.647937Z"
    },
    "trusted": true
   },
   "outputs": [
    {
     "name": "stdout",
     "output_type": "stream",
     "text": [
      "5095\n"
     ]
    }
   ],
   "source": [
    "count = train['question'].str.strip().str.endswith('?').sum()\n",
    "print(count)"
   ]
  },
  {
   "cell_type": "code",
   "execution_count": null,
   "metadata": {
    "trusted": true
   },
   "outputs": [],
   "source": []
  }
 ],
 "metadata": {
  "kaggle": {
   "accelerator": "nvidiaTeslaT4",
   "dataSources": [
    {
     "databundleVersionId": 11923711,
     "sourceId": 99600,
     "sourceType": "competition"
    }
   ],
   "dockerImageVersionId": 31011,
   "isGpuEnabled": true,
   "isInternetEnabled": true,
   "language": "python",
   "sourceType": "notebook"
  },
  "kernelspec": {
   "display_name": "Python 3",
   "language": "python",
   "name": "python3"
  },
  "language_info": {
   "codemirror_mode": {
    "name": "ipython",
    "version": 3
   },
   "file_extension": ".py",
   "mimetype": "text/x-python",
   "name": "python",
   "nbconvert_exporter": "python",
   "pygments_lexer": "ipython3",
   "version": "3.11.11"
  }
 },
 "nbformat": 4,
 "nbformat_minor": 4
}
